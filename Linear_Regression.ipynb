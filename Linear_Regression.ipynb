#importing dependencies
import numpy as np
import pandas as pd
from matplotlib import pyplot as plt
from sklearn.datasets import load_datasets
#understanding the dataset
boston = load_boston()
print(boston.DESCR)
#access data attributes 
dataset = boston.data
for name, index in enumerate(boston.feature_names):
    print(index,name)
#Reshaping data i.e 506 to 506,1 to (1-d to 2-d array)
data = dataset[:,12].reshape(-1,1)
#shape of the data 
np.shape(dataset)
#target values
target = boston.target.reshape(-1,1)
#shape of target
np.shape(target)
#ensuring that matplitlib is working inside notebook
%matplotlib inline
plt.scatter(data, target, color = 'red')
plt.xlabel('Lower income population')
plt.ylabel('Cost of house')
plt.show()


#Regression using Lasso 
#Can also use Ridge, LinearRegression
#for this data using the types won't take much difference but it usually makes difference depending upon datasets.
from sklearn.linear_model import Lasso

#creating a regression model
reg = Lasso()

#fit the model
reg.fit(data,target)
#Prediction
pred = reg.predict(data)
#plotting the model
%matplotlib inline
plt.scatter(data, target, color = 'blue')
plt.plot(data, pred, color = 'red')    #do not use scatter since you do not want it as a scatter point  but as a line
plt.xlabel('Lower income population')
plt.ylabel('Cost of house')
plt.show()


#Now to satisfy ourselves we need to optimise using new model
#circumventing curve issue using polynomial model. (It will fit right curve using variables,giving appropriate degree to curve)
from sklearn.preprocessing import PolynomialFeatures
# We cannot fit two models together ,we need something intermediate called as pipeline.
from sklearn.pipeline import make_pipeline 
#Now make the two models pipeline
model = make_pipeline(PolynomialFeatures(7),reg) #7 will make it a cubical curve
model.fit(data,target)
pred = model.predict(data)

#Plotting the optimised model
%matplotlib inline
plt.scatter(data, target, color = 'blue')
plt.plot(data, pred, color = 'red')    #do not use scatter since you do not want it as a scatter point  but as a line
plt.xlabel('Lower income population')
plt.ylabel('Cost of house')
plt.show()
# r square metric to check accuracy
from sklearn.metrics import r2_score
#predict
r2_score(pred,target)
#r_2 ranges between -1 and 1. If the number is around 1 the model and data are in sync. If it is around -1 they are not in sync
